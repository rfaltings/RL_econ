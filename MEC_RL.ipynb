{
 "cells": [
  {
   "cell_type": "markdown",
   "id": "fb5f2f4b-21bc-490d-9b8e-ac077abbe289",
   "metadata": {
    "jp-MarkdownHeadingCollapsed": true,
    "tags": []
   },
   "source": [
    "# Introduction to reinforcement learning (RL)\n",
    "\n",
    "Richard Faltings, 2022. \n",
    "\n",
    "![RL in action](https://assets-global.website-files.com/621d30e84caf0be3291dbf1c/621fd412811690404f6d9403_alphazero.jpg)\n",
    "\n",
    "---\n",
    "\n",
    "Recent examples of successful RL applications:\n",
    "- [AlphaGo beating human Go champion](https://www.youtube.com/watch?v=8tq1C8spV_g)\n",
    "- [Playing Atari games by only observing raw image input](https://www.youtube.com/watch?v=dJ4rWhpAGFI)\n",
    "- [Robotic manipulation of arbitrary objects](https://www.youtube.com/watch?v=ZhsEKTo7V04)\n",
    "\n",
    "\n",
    "What is notable about these applications?\n",
    "\n",
    "They all involve notable **complexity**:\n",
    "1. A complex/large state space, as in the case of Go\n",
    "2. Complex transition dynamics, which are analytically intractible, as in the case of Atari games\n",
    "3. Complex policy functions, as is the case with the large number of motors involved in robotic manipulation\n",
    "\n",
    "\n",
    "Keep these applications in mind! I will focus on a simple case for expositional purposes, but the real power of the methods is only apparent in much more complex situations.\n",
    "\n",
    "\n",
    "## References\n",
    "\n",
    "Papers in economics:\n",
    "- Iskhakov, F., Rust, J., & Schjerning, B. (2020). Machine learning and structural econometrics: contrasts and synergies. The Econometrics Journal, 23(3), S81-S124.\n",
    "- Igami, M. (2020). Artificial intelligence as structural estimation: Deep Blue, Bonanza, and AlphaGo. The Econometrics Journal, 23(3), S1-S24.\n",
    "\n",
    "Reference textbook:\n",
    "- [Sutton, R. S., & Barto, A. G. (2018). Reinforcement learning: An introduction. MIT press.](https://www.andrew.cmu.edu/course/10-703/textbook/BartoSutton.pdf)\n",
    "\n",
    "Web resources:\n",
    "- [CS 285 at Berkeley, taught by Sergey Levine](https://rail.eecs.berkeley.edu/deeprlcourse/)\n",
    "- [Spinning up by OpenAI](https://spinningup.openai.com/en/latest/)\n",
    "\n",
    "\n",
    "---"
   ]
  },
  {
   "cell_type": "markdown",
   "id": "330f39d0-2b90-43da-a58a-aa4b323e0f1a",
   "metadata": {},
   "source": [
    "# Canonical Dynamic Programming\n",
    "\n",
    "We begin with the canonical Dynamic Programming setup of Rust (1987)\n",
    "\n",
    "States: $x \\in \\mathcal{X}$\n",
    "\n",
    "Actions: $y \\in \\mathcal{Y}(x)$\n",
    "\n",
    "Transition probability: $P_{x'|xy}$\n",
    "\n",
    "Flow utility: $u_{xy}$\n",
    "\n",
    "Discount rate: $\\beta$\n",
    "\n",
    "Policy function (or choice probability): $\\pi_{xy} = Pr(y|x)$\n",
    "\n",
    "The agent's problem:\n",
    "$$\n",
    "\\max_{\\Pi} \\mathbb{E}_{x_1,x_2,\\dots} \\Big[ \\sum_{t=0}^\\infty \\beta^t u_{x_ty_t} | x_0 \\Big] \\\\\n",
    "s.t. \\\\\n",
    "Pr(y_t|x_t) = \\pi_{x_ty_t} \\\\\n",
    "Pr(x_{t+1}|x_t) = \\sum_{y\\in\\mathcal{Y}(x)}\\pi_{x_ty}P_{x_{t+1}|x_ty} \\\\\n",
    "$$\n",
    "In recursive form, the problem is:\n",
    "$$\n",
    "U_x = \\arg \\max_{y \\in \\mathcal{Y}(x)} u_{xy} + \\beta \\sum_{x \\in \\mathcal{X}} P_{x'|xy}U_x\n",
    "$$"
   ]
  },
  {
   "cell_type": "code",
   "execution_count": 1,
   "id": "7418b9fb-7c5c-4262-8fa8-e75e8fd88002",
   "metadata": {
    "tags": []
   },
   "outputs": [],
   "source": [
    "import random\n",
    "import matplotlib.pyplot as plt\n",
    "import torch\n",
    "\n",
    "class dynamic_problem:\n",
    "    def __init__(self, nbX, nbY, P, u, β):\n",
    "        self.nbX = nbX\n",
    "        self.nbY = nbY\n",
    "        self.P = P\n",
    "        self.u = u\n",
    "        self.β = β"
   ]
  },
  {
   "cell_type": "markdown",
   "id": "d5190b75-cf15-4287-8b2c-80cc4dc8096f",
   "metadata": {},
   "source": [
    "# Bus Engine replacement\n",
    "\n",
    "Recall the problem studied by Rust (1987):\n",
    "1. Bus engines get worn over time and require increasing amounts of maintenance each month.\n",
    "2. Alternatively, the entire engine can be replaced at a high fixed cost\n",
    "\n",
    "Here, the state variable $x$ represents the mileage of the engine. The actions space at every period is $\\mathcal{Y} = \\{0,1\\}$, where $1$ implies replacing the engine.\n",
    "\n",
    "Utilities are:\n",
    "- $u_{x0} = -c(x)$\n",
    "- $u_{x1} = -R - c(0)$\n",
    "\n",
    "with $c(x) = \\theta x$. For the remainder, we fix $\\theta = 8.6*10^{-4}$ and $R = 8000$.\n",
    "\n",
    "The transition process for $x$ is s.t.:\n",
    "- Conditional on $y_t = 0$,  $x_{t+1} - x_t \\sim$ Exponential($\\lambda$)\n",
    "- Conditional on $y_t = 1$,  $x_{t+1} \\sim$ Exponential($\\lambda$)\n",
    "\n",
    "This process will be discretized into a 201-point grid for $x \\in [0, 300000]$ with a spacing of $1,500$ miles in between points."
   ]
  },
  {
   "cell_type": "code",
   "execution_count": 2,
   "id": "3d138daa-2639-4e4c-8415-1847c759e0fe",
   "metadata": {},
   "outputs": [],
   "source": [
    "nbX = 201\n",
    "nbY = 2\n",
    "\n",
    "# Constructing the x_grid and transition probabilities\n",
    "λ = 1/1500\n",
    "\n",
    "def exp_cdf(c:float, λ):\n",
    "    return 1 - torch.exp(-λ * c)\n",
    "\n",
    "x_grid = torch.linspace(0,3*10e4, nbX)\n",
    "x_diff = torch.maximum(x_grid[:,None] - x_grid[None,:], torch.zeros(1)) # Get all the differences\n",
    "x_diff = torch.cat([x_diff, torch.ones(1, nbX) * 1e36], 0)\n",
    "P0 = exp_cdf(x_diff, λ) # Get CDFs at all the interval boundaries\n",
    "P0 = P0[1:,] - P0[:-1,] # Convert to PMF of the intervals\n",
    "P1 = P0[:,0][:,None].repeat(1,nbX) # Transition probabilities conditional on replacement is just transition probabilities from the first state. The syntax [:,None] adds an empty dimension at the specified place.\n",
    "P = torch.stack([P0,P1],-1)\n",
    "\n",
    "# Utilities\n",
    "θ = 1e-3\n",
    "R = 8000\n",
    "u = lambda x : torch.stack([-θ*x, -torch.tensor(R).repeat(len(x))], -1).squeeze()\n",
    "\n",
    "# Discount factor\n",
    "β = 0.97\n",
    "\n",
    "bus_problem = dynamic_problem(nbX, nbY, P, u(x_grid), β)\n",
    "bus_problem.x_grid = x_grid"
   ]
  },
  {
   "cell_type": "markdown",
   "id": "46e92a48-24fe-44fb-93f7-6aa564279e27",
   "metadata": {},
   "source": [
    "### Rust (1987) solution\n",
    "\n",
    "Rust's approach uses the contraction mapping property of the Bellman equation to iterate over choice-specific value functions (which we will call **Q-functions**).\n",
    "\n",
    "Let:\n",
    "$$\n",
    "Q_{xy} \\equiv u_{xy} + \\beta \\sum_{x \\in \\mathcal{X}} P_{x'|xy}U_x \\\\\n",
    "$$\n",
    "\n",
    "Then we have the following contraction mapping:\n",
    "$$\n",
    "Q_{xy} = u_{xy} + \\beta \\sum_{x \\in \\mathcal{X}} P_{x'|xy} \\arg \\max_{y \\in \\mathcal{Y}(x)} Q_{x'y}\n",
    "$$\n",
    "\n",
    "This is almost the contraction mapping that Rust uses (though it's missing the random utility component).\n",
    "\n",
    "This can be iterated on $Q_{xy}$ to solve the problem. \n",
    "\n",
    "#### Algorithm\n",
    "\n",
    ">Denote the current iteration by $k$. Initialize $k=0$, $Q^0$\n",
    ">\n",
    ">For every $k=0,1,\\dots$:\n",
    ">- $Q^{k+1}_{xy} = u_{xy} + \\beta \\sum_{x \\in \\mathcal{X}} P_{x'|xy} \\arg \\max_{y \\in \\mathcal{Y}(x)} Q^k_{x'y}, \\quad \\forall (x,y)$\n",
    ">- Stop when $|Q^k - Q^{k-1}| < \\delta$\n",
    "\n",
    "**Key point**: notice that at every iteration $k$, the update is performed over $|\\mathcal{X}|\\cdot|\\mathcal{Y}|$ points."
   ]
  },
  {
   "cell_type": "code",
   "execution_count": 3,
   "id": "ef6d1361-9ae7-4112-aa69-07055105f7bf",
   "metadata": {
    "tags": []
   },
   "outputs": [],
   "source": [
    "def cmap(self, Q_init, tol, max_iter = float('inf')):\n",
    "    # Initialize\n",
    "    Q_k = Q_init.clone()\n",
    "    tol = 1e-8\n",
    "    k = 0\n",
    "    diff_hist = []\n",
    "    diff = tol + 1\n",
    "\n",
    "    while (diff > tol) & (k < max_iter):\n",
    "        # Compute new Q\n",
    "        Q_k1 = self.u +  self.β * torch.sum(self.P * Q_k.max(1)[0][:,None,None],0)\n",
    "        \n",
    "        # Record difference\n",
    "        diff = torch.norm(Q_k1 - Q_k)\n",
    "        diff_hist.append(diff)\n",
    "        \n",
    "        # Update Q\n",
    "        Q_k = Q_k1\n",
    "        \n",
    "        k += 1\n",
    "        \n",
    "    diff_hist = torch.stack(diff_hist)\n",
    "    if diff <= tol:\n",
    "        print(\"Iteration converged after \" + \"{:,}\".format(self.nbX*self.nbY*k) + \" function updates\") \n",
    "    else:\n",
    "        print(\"Hit maximum iterations after \" + \"{:,}\".format(self.nbX*self.nbY*k) + \" function updates\")         \n",
    "    return Q_k, diff_hist\n",
    "\n",
    "dynamic_problem.cmap = cmap"
   ]
  },
  {
   "cell_type": "code",
   "execution_count": 4,
   "id": "4a888e5e-2bf0-4cd3-8a54-bdcdab5b7cf6",
   "metadata": {},
   "outputs": [
    {
     "name": "stdout",
     "output_type": "stream",
     "text": [
      "Iteration converged after 207,432 function updates\n",
      "CPU times: user 263 ms, sys: 145 ms, total: 407 ms\n",
      "Wall time: 81.9 ms\n"
     ]
    }
   ],
   "source": [
    "%%time\n",
    "Q_init = torch.ones(bus_problem.nbX, bus_problem.nbY) * -2000\n",
    "tol = 1e-8\n",
    "Q_sol_rust, diff_hist_rust = bus_problem.cmap(Q_init,tol)"
   ]
  },
  {
   "cell_type": "code",
   "execution_count": 5,
   "id": "368c0697-b703-4c7d-ab31-fc2f2d4a6f5d",
   "metadata": {},
   "outputs": [
    {
     "data": {
      "text/plain": [
       "<matplotlib.legend.Legend at 0x11fd92e30>"
      ]
     },
     "execution_count": 5,
     "metadata": {},
     "output_type": "execute_result"
    },
    {
     "data": {
      "image/png": "[encoded data removed]",
      "text/plain": [
       "<Figure size 432x288 with 1 Axes>"
      ]
     },
     "metadata": {
      "needs_background": "light"
     },
     "output_type": "display_data"
    }
   ],
   "source": [
    "# Relative value of replacement\n",
    "plt.plot(x_grid, Q_sol_rust[:,1]-Q_sol_rust[:,0], label = \"Contraction mapping\")\n",
    "plt.xlabel(\"Miles\")\n",
    "plt.ylabel(\"Relative value of replacement\")\n",
    "plt.legend()"
   ]
  },
  {
   "cell_type": "markdown",
   "id": "856b3b82-3d4b-4636-98de-fe095dddddc1",
   "metadata": {},
   "source": [
    "---\n",
    "# Q-learning\n",
    "\n",
    "Q-learning, introduced by Watkins (1989) is another way of solving such an MDP.\n",
    "\n",
    "An intuitive description of Q-learning is \"learning by doing\". It makes use of simulation to iterate on the equation. This affects both which $(x,y)$ pairs are updated at each iteration and how they are updated.\n",
    "\n",
    "We can break down this approach into two elements: asynchronous updating and stochastic iteration\n",
    "\n",
    "---\n",
    "\n",
    "### Asynchronous updating\n",
    "\n",
    "Whereas  Rust (1987) updates every $(x,y)$ at every iteration, the basic Q-learning iteration only updates a single $(x,y)$ per iteration. The choice of $(x,y)$ is determined by simulation, so $y$ is chosen according to the current policy, while the new $x$ is then chosen according to the transition probabilities.\n",
    "\n",
    "\n",
    "#### Algorithm\n",
    "\n",
    ">Denote the current iteration by $k$. Initialize $k=0$, $x^0$, $Q^0$\n",
    ">\n",
    ">For every $k=0,1,\\dots$:\n",
    ">- $y^k = \\arg \\max Q^k_{x^k,y}$\n",
    ">- Draw $x^{k+1}$ according to $P_{x'|x^ky^k}$\n",
    ">- Update:\n",
    ">>  - $Q^{k+1}_{xy} = u_{xy} + \\beta \\sum_{x \\in \\mathcal{X}} P_{x'|xy} \\arg \\max_{y \\in \\mathcal{Y}(x)} Q^k_{x'y}$ if $(x,y) = (x^k,y^k)$\n",
    ">>  - $Q^{k+1}_{xy} = Q^k_{xy}$ otherwise"
   ]
  },
  {
   "cell_type": "markdown",
   "id": "d11ba82e-702b-43c2-ac25-7a58552c6068",
   "metadata": {},
   "source": [
    "### 1st issue: Exploration\n",
    "\n",
    "Picking $y^k = \\arg \\max Q^k_{x^k,y}$ has the advantage of naturally improving our estimate of $Q$ at the points that occurr most frequently in reality.\n",
    "\n",
    "However, in the beginning, our guess for $Q$ may be off substantially, and we may fail to pick a $\\tilde{y}$ because the current guess for $Q_{x\\tilde{y}}$ is too low. Since we never pick it, the value can never be updated, and the iteration gets stuck in a suboptimal path.\n",
    "\n",
    "To fix this, we need to incoporate some form of **exploration**.\n",
    "\n",
    "The simplest form of this is to pick $y^k$ according to the **$\\epsilon$-greedy** policy: \n",
    "- With probability $1-\\epsilon$: $y^k = \\arg \\max Q^k_{x^k,y}$\n",
    "- With probability $\\epsilon$: pick $y^k$ randomly\n",
    "\n",
    "Depending on the transition matrix, some **exploration in terms of the state space** $\\mathcal{X}$ may also be needed. This is apparent in the bus engine replacement problem, since higher-mileages can only be observed after passing through the lower mileages, so estimates at these states can be very noisy. A simple way to accomplish this is by periodically resetting the state variable randomly.\n",
    "\n"
   ]
  },
  {
   "cell_type": "code",
   "execution_count": 6,
   "id": "c3efbbcf-b5fb-40b0-ae6c-cdf2f4e1e062",
   "metadata": {
    "tags": []
   },
   "outputs": [],
   "source": [
    "# Asynchronous updating component of Q-learning\n",
    "@torch.jit.script\n",
    "def Q_learn0_script(U, P, β:float, nbX:int, nbY:int, Q_init, x_init, eps:float, tol:float, buffer_size:int, max_iter:float = float('inf'), reset_freq:float = float('inf')):\n",
    "    # Initialize\n",
    "    Q_k = Q_init.clone()\n",
    "    x_k = x_init\n",
    "    y_k = Q_k[x_k].argmax()\n",
    "    k = 0\n",
    "    diff_buffer = torch.ones(buffer_size)*tol\n",
    "\n",
    "    while (torch.norm(diff_buffer) > tol) and (k < max_iter):\n",
    "        # epsilon-greedy choice of y\n",
    "        if torch.rand(1) > eps:\n",
    "            y_k = Q_k[x_k].argmax()\n",
    "        else:\n",
    "            y_k = torch.randint(nbY, (1,))[0].long()\n",
    "        \n",
    "        # Calculate the temporal difference and add to buffer\n",
    "        TD = U[x_k,y_k] + β * torch.sum(P[:,x_k,y_k] * Q_k.max(1)[0]) - Q_k[x_k,y_k]\n",
    "        diff_buffer[k % buffer_size] = TD\n",
    "        \n",
    "        # Update Q\n",
    "        Q_k[x_k,y_k] += TD\n",
    "        \n",
    "        # Update x, possibly randomly\n",
    "        if k % reset_freq == 0:\n",
    "            x_k = torch.randint(nbX,(1,))[0].long()\n",
    "        else:\n",
    "            x_k = torch.multinomial(P[:,x_k,y_k],1)[0]\n",
    "            \n",
    "        k += 1\n",
    "    \n",
    "    return Q_k, diff_buffer, k\n",
    "\n",
    "def Q_learn0(self, Q_init, x_init, eps:float, tol:float, buffer_size:int, max_iter = float('inf'), reset_freq:float = float('inf')):\n",
    "    Q_k, diff_buffer, k = Q_learn0_script(self.u, self.P, self.β, self.nbX, self.nbY, Q_init, x_init, eps, tol, buffer_size, max_iter, reset_freq)\n",
    "    \n",
    "    if torch.norm(diff_buffer) <= tol:\n",
    "        print(\"Iteration converged after \" + \"{:,}\".format(k) + \" function updates\")\n",
    "    else:\n",
    "        print(\"Hit maximum iterations after \" + \"{:,}\".format(k) + \" function updates\")   \n",
    "    \n",
    "    return Q_k, diff_buffer\n",
    "\n",
    "dynamic_problem.Q_learn0 = Q_learn0"
   ]
  },
  {
   "cell_type": "code",
   "execution_count": 7,
   "id": "e7c68929-3163-4dff-9728-1c56ac967ddc",
   "metadata": {},
   "outputs": [
    {
     "name": "stdout",
     "output_type": "stream",
     "text": [
      "Iteration converged after 287,906 function updates\n",
      "CPU times: user 1min 46s, sys: 1min 3s, total: 2min 49s\n",
      "Wall time: 26.3 s\n"
     ]
    }
   ],
   "source": [
    "x_init = torch.tensor(0)\n",
    "eps = 0.03\n",
    "tol = 1e-8\n",
    "buffer_size = bus_problem.nbX*bus_problem.nbY\n",
    "max_iter = 300000\n",
    "reset_freq = 100\n",
    "\n",
    "%time Q_sol_learn0, diff_buffer_learn0 = bus_problem.Q_learn0(Q_init, x_init, eps, tol, buffer_size, max_iter, reset_freq)"
   ]
  },
  {
   "cell_type": "code",
   "execution_count": 8,
   "id": "244800a6-3682-454b-a930-565d426d24d3",
   "metadata": {},
   "outputs": [
    {
     "data": {
      "text/plain": [
       "<matplotlib.legend.Legend at 0x11fd93c70>"
      ]
     },
     "execution_count": 8,
     "metadata": {},
     "output_type": "execute_result"
    },
    {
     "data": {
      "image/png": "[encoded data removed]",
      "text/plain": [
       "<Figure size 432x288 with 1 Axes>"
      ]
     },
     "metadata": {
      "needs_background": "light"
     },
     "output_type": "display_data"
    }
   ],
   "source": [
    "# Relative value of replacement\n",
    "plt.plot(x_grid, Q_sol_rust[:,1]-Q_sol_rust[:,0], label = \"Contraction mapping\")\n",
    "plt.plot(x_grid, Q_sol_learn0[:,1]-Q_sol_learn0[:,0], label = \"Asynchronous updating\")\n",
    "plt.xlabel(\"Miles\")\n",
    "plt.ylabel(\"Relative value of replacement\")\n",
    "plt.legend()"
   ]
  },
  {
   "cell_type": "markdown",
   "id": "96e69595-9901-41e4-a854-05cdf9bc1728",
   "metadata": {},
   "source": [
    "---\n",
    "\n",
    "### Stochastic iteration\n",
    "\n",
    "Now reconsider the term: $P_{x'|xy} \\arg \\max_{y \\in \\mathcal{Y}(x)} Q^k_{x'y}$. In some cases, this can be very expensive to compute, in particular when the transition probabilities $P_{x'|xy}$ are intractable or take on a complex form.\n",
    "\n",
    "Recall that we are already drawing the next state $x^{k+1}$ from $P_{x'|xy}$ anyways. We can use this to get a very noisy estimate of the above expectation, and use averaging over many periods to smooth out the noise, sing the same principle as **stochastic optimization**.\n",
    "\n",
    "#### Algorithm\n",
    "\n",
    "> Initialize $k=0$, $x^0$, $Q^0$.\n",
    ">\n",
    "> For every $k=0,1,\\dots$:\n",
    ">- $y^k = \\arg \\max Q^k_{x^k,y}$\n",
    ">- Draw $x^{k+1}$ according to $P_{x'|x^ky^k}$\n",
    ">- Update:\n",
    ">>  - $Q^{k+1}_{xy} = Q^{k}_{xy} + \\alpha^k (u_{xy} + \\beta \\arg \\max_y' Q^k_{x^{k+1}y'} -Q^k_{xy})$ if $(x,y) = (x^k,y^k)$\n",
    ">>  - $Q^{k+1}_{xy} = Q^k_{xy}$ otherwise"
   ]
  },
  {
   "cell_type": "markdown",
   "id": "2c23c4ef-8be4-4586-ae5b-88a15b69ae40",
   "metadata": {},
   "source": [
    "### 2nd issue: Convergence\n",
    "\n",
    "With the new form of updating, we no longer have the convergence guarantees of the contraction mapping.\n",
    "\n",
    "Instead, $Q^k$ will behave more like a random variable. If $\\alpha^k$ is held fixed, it will never completely converge, only bounce around in the neighborhood of the true $Q$. \n",
    "\n",
    "However, there are conditions on the sequence of $\\alpha^k$ which should guarantee convergence:\n",
    "\n",
    "1. $\\sum_{k=0}^\\infty \\alpha^k = \\infty$\n",
    "2. $\\sum_{k=0}^\\infty \\alpha^k < \\infty$\n",
    "\n",
    "> Sutton and Barto (2020), p.33\n",
    "\n",
    "In practice, these conditions are not strictly observed, particularly because they can lead to very slow convergence rates. However, for econometric applications, guaranteed convergence may be more important.\n"
   ]
  },
  {
   "cell_type": "code",
   "execution_count": 9,
   "id": "01199afb-9681-4928-a080-72ed41dd40b2",
   "metadata": {
    "tags": []
   },
   "outputs": [],
   "source": [
    "# Full Q-learning\n",
    "@torch.jit.script\n",
    "def Q_learn1_script(U, P, β:float, nbX:int, nbY:int, Q_init, x_init, α_k:float, eps:float, tol:float, buffer_size:int, max_iter:float = float('inf'), reset_freq:float = float('inf')):\n",
    "    # Initialize\n",
    "    Q_k = Q_init.clone()\n",
    "    x_k = x_init\n",
    "    y_k = Q_k[x_k].argmax()\n",
    "    k = 0\n",
    "    diff_buffer = torch.ones(buffer_size)*tol + 1\n",
    "\n",
    "    while (torch.abs(torch.mean(diff_buffer)) > tol) and (k < max_iter):\n",
    "        # epsilon-greedy choice of y\n",
    "        if torch.rand(1) > eps:\n",
    "            y_k = Q_k[x_k].argmax()\n",
    "        else:\n",
    "            y_k = torch.randint(nbY, (1,))[0].long()\n",
    "        \n",
    "        # draw next x\n",
    "        x_k1 = torch.multinomial(P[:,x_k,y_k],1)[0]\n",
    "        \n",
    "        # Calculate the temporal difference and add to buffer\n",
    "        TD = U[x_k,y_k] + β * Q_k[x_k1].max() - Q_k[x_k,y_k]\n",
    "        diff_buffer[k % buffer_size] = TD\n",
    "        \n",
    "        # Update Q\n",
    "        Q_k[x_k,y_k] += α_k * TD\n",
    "        \n",
    "        # Update x, possibly randomly\n",
    "        if k % reset_freq == 0:\n",
    "            x_k = torch.randint(nbX,(1,))[0].long()\n",
    "        else:\n",
    "            x_k = x_k1        \n",
    "            \n",
    "        k += 1\n",
    "\n",
    "    return Q_k, diff_buffer, k\n",
    "\n",
    "def Q_learn1(self, Q_init, x_init, α_k:float, eps:float, tol:float, buffer_size:int, max_iter = float('inf'), reset_freq:float = float('inf')):\n",
    "    Q_k, diff_buffer, k = Q_learn1_script(self.u, self.P, self.β, self.nbX, self.nbY, Q_init, x_init, α_k, eps, tol, buffer_size, max_iter, reset_freq)\n",
    "    \n",
    "    if torch.norm(diff_buffer) <= tol:\n",
    "        print(\"Iteration converged after \" + \"{:,}\".format(k) + \" function updates\")\n",
    "    else:\n",
    "        print(\"Hit maximum iterations after \" + \"{:,}\".format(k) + \" function updates\")   \n",
    "    \n",
    "    return Q_k, diff_buffer\n",
    "\n",
    "dynamic_problem.Q_learn1 = Q_learn1"
   ]
  },
  {
   "cell_type": "code",
   "execution_count": 10,
   "id": "aa2b9e9e-be6b-4b7e-b34a-8460ab578a5c",
   "metadata": {},
   "outputs": [
    {
     "name": "stdout",
     "output_type": "stream",
     "text": [
      "Hit maximum iterations after 1,000,000 function updates\n",
      "CPU times: user 4min 36s, sys: 126 ms, total: 4min 37s\n",
      "Wall time: 4min 37s\n"
     ]
    }
   ],
   "source": [
    "x_init = torch.tensor(0)\n",
    "α_k = 0.1\n",
    "eps = 0.03\n",
    "tol = 1e-8\n",
    "buffer_size = bus_problem.nbX*bus_problem.nbY\n",
    "max_iter = 1000000\n",
    "reset_freq = 100\n",
    "\n",
    "%time Q_sol_learn1, diff_buffer_learn1 = bus_problem.Q_learn1(Q_init, x_init, α_k, eps, tol, buffer_size, max_iter, reset_freq)"
   ]
  },
  {
   "cell_type": "code",
   "execution_count": 10,
   "id": "d305c996-5bf8-4815-82e6-87602d31dbed",
   "metadata": {},
   "outputs": [
    {
     "name": "stdout",
     "output_type": "stream",
     "text": [
      "Hit maximum iterations after 1,000,000 function updates\n",
      "CPU times: user 50.9 s, sys: 151 ms, total: 51.1 s\n",
      "Wall time: 51.1 s\n"
     ]
    }
   ],
   "source": [
    "x_init = torch.tensor(0)\n",
    "α_k = 0.1\n",
    "eps = 0.03\n",
    "tol = 1e-8\n",
    "buffer_size = bus_problem.nbX*bus_problem.nbY\n",
    "max_iter = 1000000\n",
    "reset_freq = 100\n",
    "\n",
    "%time Q_sol_learn1, diff_buffer_learn1 = bus_problem.Q_learn1(Q_init, x_init, α_k, eps, tol, buffer_size, max_iter, reset_freq)"
   ]
  },
  {
   "cell_type": "code",
   "execution_count": 11,
   "id": "0e4374ad-fe31-4775-9f40-72d20c9be2e7",
   "metadata": {
    "tags": []
   },
   "outputs": [
    {
     "data": {
      "text/plain": [
       "<matplotlib.legend.Legend at 0x7fa8c464d720>"
      ]
     },
     "execution_count": 11,
     "metadata": {},
     "output_type": "execute_result"
    },
    {
     "data": {
      "image/png": "[encoded data removed]",
      "text/plain": [
       "<Figure size 432x288 with 1 Axes>"
      ]
     },
     "metadata": {
      "needs_background": "light"
     },
     "output_type": "display_data"
    }
   ],
   "source": [
    "# Relative value of replacement\n",
    "plt.plot(x_grid, Q_sol_rust[:,1]-Q_sol_rust[:,0], label = \"Contraction mapping\")\n",
    "plt.plot(x_grid, Q_sol_learn0[:,1]-Q_sol_learn0[:,0], label = \"Asynchronous updating\")\n",
    "plt.plot(x_grid, Q_sol_learn1[:,1]-Q_sol_learn1[:,0], label = \"Q-learning\")\n",
    "plt.xlabel(\"Miles\")\n",
    "plt.ylabel(\"Relative value of replacement\")\n",
    "plt.legend()"
   ]
  },
  {
   "cell_type": "markdown",
   "id": "e7a6cdb6-8e85-4640-9b83-854c9fbcd591",
   "metadata": {
    "tags": []
   },
   "source": [
    "--- \n",
    "# Deep Q-learning\n",
    "\n",
    "![What a deep neural net looks like](https://spectrum.ieee.org/media-library/a-structure-of-lines-connecting-dots.png?id=27528385&width=605&quality=80)\n",
    "\n",
    "The recent breakthroughs at the beginning were only made possible by combining Q-learning with state of the art **deep neural networks**. This is because they face often face extremely large and complex state spaces. However, in most interesting problems, there will be some underlying structure that makes the Q-values similar for similar values of $(x,y)$. \n",
    "\n",
    "It thus makes sense to replace the table of Q-values with some universal function approximator for $Q_{xy}$, which will usually be a much more sparse representation. The most popular current choice are deep neural networks, as they have proven to adapt well to a large variety of structures. \n",
    "\n",
    "A nice advantage of the approximation is that when the Q-learning updates $Q$ at some $(x,y)$ pair, the Q function is updated for neighboring pairs as well, which can vastly improve convergence speed.\n",
    "\n",
    "A second advantage is we no longer need to discretize the continuous state variable.\n",
    "\n",
    "In the following, let $Q^\\theta$ denote an approximation to $Q$ parametrized by $\\theta$.\n"
   ]
  },
  {
   "cell_type": "markdown",
   "id": "cdb01c1e-c986-4db5-944f-ffa94d4f8ea8",
   "metadata": {},
   "source": [
    "#### Algorithm\n",
    "\n",
    "> Initialize $k=0$, $x^0$, $\\theta^0$.\n",
    ">\n",
    "> For every $k=0,1,\\dots$:\n",
    ">- $y^k = \\arg \\max Q^{\\theta^k}_{x^k,y}$\n",
    ">- Draw $x^{k+1}$ according to $P_{x'|x^ky^k}$\n",
    ">- Get the target value: $\\tilde{Q}^k = u_{x^ky^k} + \\beta \\arg \\max_y' Q^{\\theta^k}_{x^{k+1}y'} $\n",
    ">- Update:\n",
    ">>  - $\\theta^{k+1} = \\theta^k + \\alpha^k \\nabla_\\theta( \\tilde{Q}^k - Q^{\\theta^k}_{x^ky^k})$ \n",
    "\n",
    "**Notice**: the update step corresponds to gradient descent of the problem: $\\arg \\min_\\theta \\big(\\tilde{Q}^k - Q^{\\theta^k}_{x^ky^k}\\big)^2 $\n"
   ]
  },
  {
   "cell_type": "code",
   "execution_count": 11,
   "id": "09b0e718-c689-45ae-a7e4-0a130fb582c6",
   "metadata": {},
   "outputs": [],
   "source": [
    "# Defining the neural network structure. \n",
    "from torch import nn\n",
    "import torch.nn.functional as F\n",
    "from torch import optim\n",
    "\n",
    "class Fork_Net(nn.Module):\n",
    "    def __init__(self, L1_size, L2_size, rescale_factor):\n",
    "        super(Fork_Net, self).__init__()\n",
    "        self.fc11 = nn.Linear(1, L1_size)\n",
    "        self.fc12 = nn.Linear(L1_size, L2_size)\n",
    "        self.fc13 = nn.Linear(L2_size, 1)\n",
    "        self.fc21 = nn.Linear(1, L1_size)\n",
    "        self.fc22 = nn.Linear(L1_size, L2_size)\n",
    "        self.fc23 = nn.Linear(L2_size, 1)\n",
    "        self.rescale_factor = rescale_factor\n",
    "\n",
    "    def forward(self, X):\n",
    "        x1 = F.relu(self.fc11(X*self.rescale_factor))\n",
    "        x1 = F.relu(self.fc12(x1))\n",
    "        x1 = self.fc13(x1)\n",
    "        x2 = F.relu(self.fc21(X*self.rescale_factor))\n",
    "        x2 = F.relu(self.fc22(x2))\n",
    "        x2 = self.fc23(x2)\n",
    "        return torch.cat([x1,x2], -1)"
   ]
  },
  {
   "cell_type": "code",
   "execution_count": 12,
   "id": "f4b1b1e7-e534-4fa5-a1e3-1546a924d308",
   "metadata": {},
   "outputs": [],
   "source": [
    "def deep_Q_learn(self, Q_net, x_init, α_k:float, eps:float, tol:float, buffer_size:int, max_iter:float = float('inf'), reset_freq:float = float('inf'), batch_size = 1):\n",
    "    # Initialize\n",
    "    opt_Q = optim.Adam(Q_net.parameters(), lr=α_k)\n",
    "    x_k = torch.tensor([x_init])\n",
    "    y_k = Q_net(self.x_grid[x_k]).argmax()\n",
    "    k = 0\n",
    "    diff_buffer = torch.ones(buffer_size)*tol + 1\n",
    "\n",
    "    while (torch.mean(diff_buffer) > tol) and (k < max_iter):\n",
    "        obj = 0\n",
    "        \n",
    "        for j in range(batch_size):\n",
    "            # epsilon-greedy choice of y\n",
    "            if random.random() > eps:\n",
    "                y_k = Q_net(self.x_grid[x_k]).argmax()\n",
    "            else:\n",
    "                y_k = random.randint(0,1)\n",
    "                \n",
    "            # draw next x\n",
    "            x_k1 = torch.multinomial(self.P[:,x_k[0],y_k],1)\n",
    "            \n",
    "            # Calculate the temporal difference and add to objective\n",
    "            TD = self.u[x_k, y_k] + self.β * Q_net(self.x_grid[x_k1]).max().detach() - Q_net(self.x_grid[x_k])[y_k] # detach is used so that the gradient is not computed wrt to this term\n",
    "            obj += (TD**2)/2\n",
    "        \n",
    "            # Update x, possibly randomly\n",
    "            if (j + k*batch_size) % reset_freq == 0:\n",
    "                # x_k = self.x_grid[random.randint(0,self.nbX-1)].unsqueeze(0) * 1.5\n",
    "                x_k = torch.tensor([random.randint(0,self.nbX-1)])\n",
    "            else:\n",
    "                x_k = x_k1\n",
    "\n",
    "        diff_buffer[k % buffer_size] = obj[0]/batch_size\n",
    "            \n",
    "        # Update network parameters\n",
    "        opt_Q.zero_grad()\n",
    "        (obj/batch_size).backward()\n",
    "        opt_Q.step()\n",
    "        \n",
    "        k += 1\n",
    "\n",
    "    if torch.norm(diff_buffer) <= tol:\n",
    "        print(\"Iteration converged after \" + \"{:,}\".format(k*batch_size) + \" function updates\")\n",
    "    else:\n",
    "        print(\"Hit maximum iterations after \" + \"{:,}\".format(k*batch_size) + \" function updates\")   \n",
    "\n",
    "    return Q_net, diff_buffer\n",
    "\n",
    "dynamic_problem.deep_Q_learn = deep_Q_learn"
   ]
  },
  {
   "cell_type": "code",
   "execution_count": 13,
   "id": "7a098f66-1c67-4542-972d-3ff5ac42fddd",
   "metadata": {},
   "outputs": [
    {
     "data": {
      "text/plain": [
       "[<matplotlib.lines.Line2D at 0x13c157ca0>,\n",
       " <matplotlib.lines.Line2D at 0x13c157d00>]"
      ]
     },
     "execution_count": 13,
     "metadata": {},
     "output_type": "execute_result"
    },
    {
     "data": {
      "image/png": "[encoded data removed]",
      "text/plain": [
       "<Figure size 432x288 with 1 Axes>"
      ]
     },
     "metadata": {
      "needs_background": "light"
     },
     "output_type": "display_data"
    }
   ],
   "source": [
    "# Initialized network\n",
    "Q_net = Fork_Net(16,16,1/3e5)\n",
    "plt.plot(Q_net(x_grid[:,None]).detach()) "
   ]
  },
  {
   "cell_type": "code",
   "execution_count": 15,
   "id": "bfef1156-46be-48ed-adf3-cbf1d6e03801",
   "metadata": {},
   "outputs": [
    {
     "name": "stdout",
     "output_type": "stream",
     "text": [
      "Hit maximum iterations after 30,000 function updates\n",
      "CPU times: user 55.1 s, sys: 1.23 s, total: 56.3 s\n",
      "Wall time: 56.4 s\n"
     ]
    },
    {
     "data": {
      "text/plain": [
       "[<matplotlib.lines.Line2D at 0x7fa8c456d5d0>,\n",
       " <matplotlib.lines.Line2D at 0x7fa8c456d630>]"
      ]
     },
     "execution_count": 15,
     "metadata": {},
     "output_type": "execute_result"
    },
    {
     "data": {
      "image/png": "[encoded data removed]",
      "text/plain": [
       "<Figure size 432x288 with 1 Axes>"
      ]
     },
     "metadata": {
      "needs_background": "light"
     },
     "output_type": "display_data"
    }
   ],
   "source": [
    "x_init = torch.tensor(0)\n",
    "α_k = 5e-2\n",
    "eps = 0.03\n",
    "tol = 1e-8\n",
    "buffer_size = bus_problem.nbX*bus_problem.nbY\n",
    "max_iter = 1500\n",
    "reset_freq = 20\n",
    "batch_size = 20\n",
    "%time Q_net, diff_buffer_deep = bus_problem.deep_Q_learn(Q_net, x_init, α_k, eps, tol, buffer_size, max_iter, reset_freq, batch_size)\n",
    "\n",
    "plt.plot(Q_net(x_grid[:,None]).detach())"
   ]
  },
  {
   "cell_type": "code",
   "execution_count": 16,
   "id": "7465e608-4d72-4e84-bf0f-0e9385363a7c",
   "metadata": {},
   "outputs": [
    {
     "data": {
      "text/plain": [
       "<matplotlib.legend.Legend at 0x7fa8c456f3a0>"
      ]
     },
     "execution_count": 16,
     "metadata": {},
     "output_type": "execute_result"
    },
    {
     "data": {
      "image/png": "[encoded data removed]",
      "text/plain": [
       "<Figure size 432x288 with 1 Axes>"
      ]
     },
     "metadata": {
      "needs_background": "light"
     },
     "output_type": "display_data"
    }
   ],
   "source": [
    "Q_sol_deep = Q_net(x_grid[:,None]).detach()\n",
    "\n",
    "# Relative value of replacement\n",
    "plt.plot(x_grid, Q_sol_rust[:,1]-Q_sol_rust[:,0], label = \"Contraction mapping\")\n",
    "plt.plot(x_grid, Q_sol_learn0[:,1]-Q_sol_learn0[:,0], label = \"Asynchronous updating\")\n",
    "plt.plot(x_grid, Q_sol_learn1[:,1]-Q_sol_learn1[:,0], label = \"Q-learning\")\n",
    "plt.plot(x_grid, Q_sol_deep[:,1]-Q_sol_deep[:,0], label = \"Deep Q-learning\")\n",
    "plt.xlabel(\"Miles\")\n",
    "plt.ylabel(\"Relative value of replacement\")\n",
    "plt.legend()"
   ]
  }
 ],
 "metadata": {
  "kernelspec": {
   "display_name": "MEC_RL",
   "language": "python",
   "name": "mec_rl"
  },
  "language_info": {
   "codemirror_mode": {
    "name": "ipython",
    "version": 3
   },
   "file_extension": ".py",
   "mimetype": "text/x-python",
   "name": "python",
   "nbconvert_exporter": "python",
   "pygments_lexer": "ipython3",
   "version": "3.10.4"
  }
 },
 "nbformat": 4,
 "nbformat_minor": 5
}
